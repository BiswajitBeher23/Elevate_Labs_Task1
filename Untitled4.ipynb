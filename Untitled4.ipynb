{
 "cells": [
  {
   "cell_type": "code",
   "execution_count": 1,
   "id": "b7408105-3208-44a9-a5f8-a376e0275a65",
   "metadata": {},
   "outputs": [],
   "source": [
    "import pandas as pd\n"
   ]
  },
  {
   "cell_type": "code",
   "execution_count": 13,
   "id": "3c2fb1d9-5f78-4074-9c4d-06d79f2be986",
   "metadata": {},
   "outputs": [],
   "source": [
    "df = pd.read_csv(\"C:\\\\Users\\\\ASUS\\\\Desktop\\\\Medical_appointment.csv\")\n"
   ]
  },
  {
   "cell_type": "code",
   "execution_count": 14,
   "id": "3c2bde01-c7e6-4711-b7c7-37a904200e6a",
   "metadata": {},
   "outputs": [
    {
     "name": "stdout",
     "output_type": "stream",
     "text": [
      "PatientId         0\n",
      "AppointmentID     0\n",
      "Gender            0\n",
      "ScheduledDay      0\n",
      "AppointmentDay    0\n",
      "Age               0\n",
      "Neighbourhood     0\n",
      "Scholarship       0\n",
      "Hipertension      0\n",
      "Diabetes          0\n",
      "Alcoholism        0\n",
      "Handcap           0\n",
      "SMS_received      0\n",
      "No-show           0\n",
      "dtype: int64\n"
     ]
    }
   ],
   "source": [
    "# View missing values\n",
    "print(df.isnull().sum())"
   ]
  },
  {
   "cell_type": "code",
   "execution_count": 15,
   "id": "12b7f87c-0040-46f8-9a84-bcb97380602a",
   "metadata": {},
   "outputs": [],
   "source": [
    "# Drop rows with missing values\n",
    "df = df.dropna()"
   ]
  },
  {
   "cell_type": "code",
   "execution_count": 16,
   "id": "ccd4e912-3c11-4ab2-8092-9a3c800ca64d",
   "metadata": {},
   "outputs": [],
   "source": [
    "df = df.drop_duplicates()\n"
   ]
  },
  {
   "cell_type": "code",
   "execution_count": 18,
   "id": "9e643575-6569-4917-83d7-2e0f102ece2f",
   "metadata": {},
   "outputs": [],
   "source": [
    "#Fix Gender entries\n",
    "df['Gender'] = df['Gender'].str.lower().str.strip()\n",
    "df['Gender'] = df['Gender'].replace({'m': 'male', 'f': 'female', 'male ': 'male'})\n"
   ]
  },
  {
   "cell_type": "code",
   "execution_count": 24,
   "id": "a5c4796e-0ceb-433b-a562-ae90f57d627f",
   "metadata": {},
   "outputs": [],
   "source": [
    "# Convert column to datetime format\n",
    "df['ScheduledDay'] = df['ScheduledDay'].dt.strftime('%d-%m-%Y')\n"
   ]
  },
  {
   "cell_type": "code",
   "execution_count": 35,
   "id": "40f0fb35-33a7-406f-ad62-bcabde847410",
   "metadata": {},
   "outputs": [],
   "source": [
    "df['appointmentday'] = pd.to_datetime(df['appointmentday'])\n",
    "df['appointmentday'] = df['appointmentday'].dt.strftime('%d-%m-%Y')\n"
   ]
  },
  {
   "cell_type": "code",
   "execution_count": 25,
   "id": "e6dff1fd-7f89-4841-9f5b-6cfba36f0602",
   "metadata": {},
   "outputs": [],
   "source": [
    "# Make all column names lowercase and replace spaces with underscores\n",
    "df.columns = df.columns.str.strip().str.lower().str.replace(' ', '_')"
   ]
  },
  {
   "cell_type": "code",
   "execution_count": 29,
   "id": "02054822-b8af-4c7d-80fa-9ac2cfa12201",
   "metadata": {},
   "outputs": [
    {
     "name": "stdout",
     "output_type": "stream",
     "text": [
      "Index(['patientid', 'appointmentid', 'gender', 'scheduledday',\n",
      "       'appointmentday', 'age', 'neighbourhood', 'scholarship', 'hipertension',\n",
      "       'diabetes', 'alcoholism', 'handcap', 'sms_received', 'no-show'],\n",
      "      dtype='object')\n"
     ]
    }
   ],
   "source": [
    "print(df.columns)"
   ]
  },
  {
   "cell_type": "code",
   "execution_count": 28,
   "id": "c6cf3b7b-bdfd-4137-8728-8dec891d84f8",
   "metadata": {},
   "outputs": [],
   "source": [
    "# Convert age to integer\n",
    "df['age'] = df['age'].astype(int)\n"
   ]
  },
  {
   "cell_type": "code",
   "execution_count": 30,
   "id": "19323198-c284-4150-93cf-9c37ca10d381",
   "metadata": {},
   "outputs": [],
   "source": [
    "# Convert to string\n",
    "df['patientid'] = df['patientid'].astype(str)"
   ]
  },
  {
   "cell_type": "code",
   "execution_count": 36,
   "id": "2eba8d66-f7fb-48e1-9e13-fe091db6b3c4",
   "metadata": {},
   "outputs": [],
   "source": [
    "df.to_csv(\"cleaned_file_medical.csv\", index=False)\n"
   ]
  },
  {
   "cell_type": "code",
   "execution_count": null,
   "id": "e4681e08-f891-4f95-8370-f4c87d6d564f",
   "metadata": {},
   "outputs": [],
   "source": []
  }
 ],
 "metadata": {
  "kernelspec": {
   "display_name": "Python 3 (ipykernel)",
   "language": "python",
   "name": "python3"
  },
  "language_info": {
   "codemirror_mode": {
    "name": "ipython",
    "version": 3
   },
   "file_extension": ".py",
   "mimetype": "text/x-python",
   "name": "python",
   "nbconvert_exporter": "python",
   "pygments_lexer": "ipython3",
   "version": "3.12.5"
  }
 },
 "nbformat": 4,
 "nbformat_minor": 5
}
